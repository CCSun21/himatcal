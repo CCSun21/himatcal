{
 "cells": [
  {
   "cell_type": "code",
   "execution_count": 12,
   "metadata": {},
   "outputs": [
    {
     "ename": "FileNotFoundError",
     "evalue": "[Errno 2] No such file or directory: '/home/suncc/Code/pub/himatcal/examples/EleCal/MD/pdb/LiPF6.pdb'",
     "output_type": "error",
     "traceback": [
      "\u001b[0;31m---------------------------------------------------------------------------\u001b[0m",
      "\u001b[0;31mFileNotFoundError\u001b[0m                         Traceback (most recent call last)",
      "Cell \u001b[0;32mIn[12], line 19\u001b[0m\n\u001b[1;32m      9\u001b[0m mol_list \u001b[38;5;241m=\u001b[39m [\u001b[38;5;124m\"\u001b[39m\u001b[38;5;124mEC\u001b[39m\u001b[38;5;124m\"\u001b[39m, \u001b[38;5;124m\"\u001b[39m\u001b[38;5;124mEMC\u001b[39m\u001b[38;5;124m\"\u001b[39m, \u001b[38;5;124m\"\u001b[39m\u001b[38;5;124mDMC\u001b[39m\u001b[38;5;124m\"\u001b[39m, \u001b[38;5;124m\"\u001b[39m\u001b[38;5;124mLiPF6\u001b[39m\u001b[38;5;124m\"\u001b[39m]\n\u001b[1;32m     12\u001b[0m mass_fraction \u001b[38;5;241m=\u001b[39m {\n\u001b[1;32m     13\u001b[0m     \u001b[38;5;124m\"\u001b[39m\u001b[38;5;124mEC\u001b[39m\u001b[38;5;124m\"\u001b[39m: \u001b[38;5;124m\"\u001b[39m\u001b[38;5;124m24.69\u001b[39m\u001b[38;5;124m%\u001b[39m\u001b[38;5;124m\"\u001b[39m,\n\u001b[1;32m     14\u001b[0m     \u001b[38;5;124m\"\u001b[39m\u001b[38;5;124mEMC\u001b[39m\u001b[38;5;124m\"\u001b[39m: \u001b[38;5;124m\"\u001b[39m\u001b[38;5;124m24.69\u001b[39m\u001b[38;5;124m%\u001b[39m\u001b[38;5;124m\"\u001b[39m,\n\u001b[1;32m     15\u001b[0m     \u001b[38;5;124m\"\u001b[39m\u001b[38;5;124mDMC\u001b[39m\u001b[38;5;124m\"\u001b[39m: \u001b[38;5;124m\"\u001b[39m\u001b[38;5;124m49.38\u001b[39m\u001b[38;5;124m%\u001b[39m\u001b[38;5;124m\"\u001b[39m,\n\u001b[1;32m     16\u001b[0m     \u001b[38;5;124m\"\u001b[39m\u001b[38;5;124mLiPF6\u001b[39m\u001b[38;5;124m\"\u001b[39m: \u001b[38;5;124m\"\u001b[39m\u001b[38;5;124m1.25\u001b[39m\u001b[38;5;124m%\u001b[39m\u001b[38;5;124m\"\u001b[39m,\n\u001b[1;32m     17\u001b[0m }\n\u001b[0;32m---> 19\u001b[0m read_mol \u001b[38;5;241m=\u001b[39m {\n\u001b[1;32m     20\u001b[0m     mol: read(\u001b[38;5;124mf\u001b[39m\u001b[38;5;124m\"\u001b[39m\u001b[38;5;132;01m{\u001b[39;00mpdb_folder\u001b[38;5;132;01m}\u001b[39;00m\u001b[38;5;124m/\u001b[39m\u001b[38;5;132;01m{\u001b[39;00mmol\u001b[38;5;132;01m}\u001b[39;00m\u001b[38;5;124m.pdb\u001b[39m\u001b[38;5;124m\"\u001b[39m) \u001b[38;5;28;01mfor\u001b[39;00m mol \u001b[38;5;129;01min\u001b[39;00m mol_list\n\u001b[1;32m     21\u001b[0m }\n\u001b[1;32m     23\u001b[0m read_mol\n",
      "Cell \u001b[0;32mIn[12], line 20\u001b[0m, in \u001b[0;36m<dictcomp>\u001b[0;34m(.0)\u001b[0m\n\u001b[1;32m      9\u001b[0m mol_list \u001b[38;5;241m=\u001b[39m [\u001b[38;5;124m\"\u001b[39m\u001b[38;5;124mEC\u001b[39m\u001b[38;5;124m\"\u001b[39m, \u001b[38;5;124m\"\u001b[39m\u001b[38;5;124mEMC\u001b[39m\u001b[38;5;124m\"\u001b[39m, \u001b[38;5;124m\"\u001b[39m\u001b[38;5;124mDMC\u001b[39m\u001b[38;5;124m\"\u001b[39m, \u001b[38;5;124m\"\u001b[39m\u001b[38;5;124mLiPF6\u001b[39m\u001b[38;5;124m\"\u001b[39m]\n\u001b[1;32m     12\u001b[0m mass_fraction \u001b[38;5;241m=\u001b[39m {\n\u001b[1;32m     13\u001b[0m     \u001b[38;5;124m\"\u001b[39m\u001b[38;5;124mEC\u001b[39m\u001b[38;5;124m\"\u001b[39m: \u001b[38;5;124m\"\u001b[39m\u001b[38;5;124m24.69\u001b[39m\u001b[38;5;124m%\u001b[39m\u001b[38;5;124m\"\u001b[39m,\n\u001b[1;32m     14\u001b[0m     \u001b[38;5;124m\"\u001b[39m\u001b[38;5;124mEMC\u001b[39m\u001b[38;5;124m\"\u001b[39m: \u001b[38;5;124m\"\u001b[39m\u001b[38;5;124m24.69\u001b[39m\u001b[38;5;124m%\u001b[39m\u001b[38;5;124m\"\u001b[39m,\n\u001b[1;32m     15\u001b[0m     \u001b[38;5;124m\"\u001b[39m\u001b[38;5;124mDMC\u001b[39m\u001b[38;5;124m\"\u001b[39m: \u001b[38;5;124m\"\u001b[39m\u001b[38;5;124m49.38\u001b[39m\u001b[38;5;124m%\u001b[39m\u001b[38;5;124m\"\u001b[39m,\n\u001b[1;32m     16\u001b[0m     \u001b[38;5;124m\"\u001b[39m\u001b[38;5;124mLiPF6\u001b[39m\u001b[38;5;124m\"\u001b[39m: \u001b[38;5;124m\"\u001b[39m\u001b[38;5;124m1.25\u001b[39m\u001b[38;5;124m%\u001b[39m\u001b[38;5;124m\"\u001b[39m,\n\u001b[1;32m     17\u001b[0m }\n\u001b[1;32m     19\u001b[0m read_mol \u001b[38;5;241m=\u001b[39m {\n\u001b[0;32m---> 20\u001b[0m     mol: \u001b[43mread\u001b[49m\u001b[43m(\u001b[49m\u001b[38;5;124;43mf\u001b[39;49m\u001b[38;5;124;43m\"\u001b[39;49m\u001b[38;5;132;43;01m{\u001b[39;49;00m\u001b[43mpdb_folder\u001b[49m\u001b[38;5;132;43;01m}\u001b[39;49;00m\u001b[38;5;124;43m/\u001b[39;49m\u001b[38;5;132;43;01m{\u001b[39;49;00m\u001b[43mmol\u001b[49m\u001b[38;5;132;43;01m}\u001b[39;49;00m\u001b[38;5;124;43m.pdb\u001b[39;49m\u001b[38;5;124;43m\"\u001b[39;49m\u001b[43m)\u001b[49m \u001b[38;5;28;01mfor\u001b[39;00m mol \u001b[38;5;129;01min\u001b[39;00m mol_list\n\u001b[1;32m     21\u001b[0m }\n\u001b[1;32m     23\u001b[0m read_mol\n",
      "File \u001b[0;32m~/micromamba/envs/marimo/lib/python3.10/site-packages/ase/io/formats.py:793\u001b[0m, in \u001b[0;36mread\u001b[0;34m(filename, index, format, parallel, do_not_split_by_at_sign, **kwargs)\u001b[0m\n\u001b[1;32m    791\u001b[0m \u001b[38;5;28;01mif\u001b[39;00m index \u001b[38;5;129;01mis\u001b[39;00m \u001b[38;5;28;01mNone\u001b[39;00m:\n\u001b[1;32m    792\u001b[0m     index \u001b[38;5;241m=\u001b[39m \u001b[38;5;241m-\u001b[39m\u001b[38;5;241m1\u001b[39m\n\u001b[0;32m--> 793\u001b[0m \u001b[38;5;28mformat\u001b[39m \u001b[38;5;241m=\u001b[39m \u001b[38;5;28mformat\u001b[39m \u001b[38;5;129;01mor\u001b[39;00m \u001b[43mfiletype\u001b[49m\u001b[43m(\u001b[49m\u001b[43mfilename\u001b[49m\u001b[43m,\u001b[49m\u001b[43m \u001b[49m\u001b[43mread\u001b[49m\u001b[38;5;241;43m=\u001b[39;49m\u001b[38;5;28;43misinstance\u001b[39;49m\u001b[43m(\u001b[49m\u001b[43mfilename\u001b[49m\u001b[43m,\u001b[49m\u001b[43m \u001b[49m\u001b[38;5;28;43mstr\u001b[39;49m\u001b[43m)\u001b[49m\u001b[43m)\u001b[49m\n\u001b[1;32m    795\u001b[0m io \u001b[38;5;241m=\u001b[39m get_ioformat(\u001b[38;5;28mformat\u001b[39m)\n\u001b[1;32m    796\u001b[0m \u001b[38;5;28;01mif\u001b[39;00m \u001b[38;5;28misinstance\u001b[39m(index, (\u001b[38;5;28mslice\u001b[39m, \u001b[38;5;28mstr\u001b[39m)):\n",
      "File \u001b[0;32m~/micromamba/envs/marimo/lib/python3.10/site-packages/ase/io/formats.py:965\u001b[0m, in \u001b[0;36mfiletype\u001b[0;34m(filename, read, guess)\u001b[0m\n\u001b[1;32m    962\u001b[0m     \u001b[38;5;28;01mreturn\u001b[39;00m ext\n\u001b[1;32m    964\u001b[0m \u001b[38;5;28;01mif\u001b[39;00m orig_filename \u001b[38;5;241m==\u001b[39m filename:\n\u001b[0;32m--> 965\u001b[0m     fd \u001b[38;5;241m=\u001b[39m \u001b[43mopen_with_compression\u001b[49m\u001b[43m(\u001b[49m\u001b[43mfilename\u001b[49m\u001b[43m,\u001b[49m\u001b[43m \u001b[49m\u001b[38;5;124;43m'\u001b[39;49m\u001b[38;5;124;43mrb\u001b[39;49m\u001b[38;5;124;43m'\u001b[39;49m\u001b[43m)\u001b[49m\n\u001b[1;32m    966\u001b[0m \u001b[38;5;28;01melse\u001b[39;00m:\n\u001b[1;32m    967\u001b[0m     fd \u001b[38;5;241m=\u001b[39m orig_filename  \u001b[38;5;66;03m# type: ignore[assignment]\u001b[39;00m\n",
      "File \u001b[0;32m~/micromamba/envs/marimo/lib/python3.10/site-packages/ase/io/formats.py:597\u001b[0m, in \u001b[0;36mopen_with_compression\u001b[0;34m(filename, mode)\u001b[0m\n\u001b[1;32m    594\u001b[0m     \u001b[38;5;28;01mreturn\u001b[39;00m lzma\u001b[38;5;241m.\u001b[39mopen(filename, mode)\n\u001b[1;32m    595\u001b[0m \u001b[38;5;28;01melse\u001b[39;00m:\n\u001b[1;32m    596\u001b[0m     \u001b[38;5;66;03m# Either None or unknown string\u001b[39;00m\n\u001b[0;32m--> 597\u001b[0m     \u001b[38;5;28;01mreturn\u001b[39;00m \u001b[38;5;28;43mopen\u001b[39;49m\u001b[43m(\u001b[49m\u001b[43mfilename\u001b[49m\u001b[43m,\u001b[49m\u001b[43m \u001b[49m\u001b[43mmode\u001b[49m\u001b[43m)\u001b[49m\n",
      "\u001b[0;31mFileNotFoundError\u001b[0m: [Errno 2] No such file or directory: '/home/suncc/Code/pub/himatcal/examples/EleCal/MD/pdb/LiPF6.pdb'"
     ]
    }
   ],
   "source": [
    "from __future__ import annotations\n",
    "\n",
    "from pathlib import Path\n",
    "from ase.io import read\n",
    "\n",
    "pdb_folder= \"/home/suncc/Code/pub/himatcal/examples/EleCal/MD/pdb\"\n",
    "itp_folder=\"/home/suncc/Code/pub/himatcal/examples/EleCal/MD/itp\"\n",
    "\n",
    "mol_list = [\"EC\", \"EMC\", \"DMC\", \"LiPF6\"]\n",
    "\n",
    "\n",
    "mass_fraction = {\n",
    "    \"EC\": \"24.69%\",\n",
    "    \"EMC\": \"24.69%\",\n",
    "    \"DMC\": \"49.38%\",\n",
    "    \"LiPF6\": \"1.25%\",\n",
    "}\n",
    "\n",
    "read_mol = {\n",
    "    mol: read(f\"{pdb_folder}/{mol}.pdb\") for mol in mol_list\n",
    "}\n",
    "\n",
    "read_mol"
   ]
  },
  {
   "cell_type": "code",
   "execution_count": null,
   "metadata": {},
   "outputs": [],
   "source": [
    "\n",
    "\n",
    "molar_mass = {\n",
    "    \"EC\": 88.06,\n",
    "    \"EMC\": 104.104,\n",
    "    \"DMC\": 90.08,\n",
    "    \"LiPF6\": 151.91,\n",
    "}\n",
    "\n",
    "molar_natoms = {\n",
    "    \"EC\": 10,\n",
    "    \"EMC\": 15,\n",
    "    \"DMC\": 12,\n",
    "    \"LiPF6\": 8,\n",
    "}\n",
    "\n",
    "total_natoms = 20000\n",
    "density = 1.2\n",
    "\n",
    "\n",
    "def calculate_compound(\n",
    "    mass_fraction: dict[str, str],\n",
    "    molar_mass: dict[str, float],\n",
    "    molar_natoms: dict[str, int],\n",
    "    total_natoms: int,\n",
    ") -> dict[str, dict[str, int]]:\n",
    "    def mass_to_molar(mass: float, substance: str) -> float:\n",
    "        return mass / molar_mass[substance]\n",
    "\n",
    "    def molar_to_mass(molar: float, substance: str) -> float:\n",
    "        return molar * molar_mass[substance]\n",
    "\n",
    "    def mass_fraction_to_molar_fraction(\n",
    "        mass_fraction: dict[str, str],\n",
    "    ) -> dict[str, float]:\n",
    "        total_mass = sum(\n",
    "            float(mass_fraction[component][:-1]) for component in mass_fraction\n",
    "        )\n",
    "        return {\n",
    "            component: float(mass_fraction[component][:-1])\n",
    "            / molar_mass[component]\n",
    "            / total_mass\n",
    "            for component in mass_fraction\n",
    "        }\n",
    "\n",
    "    def molar_fraction_to_mass_fraction(\n",
    "        molar_fraction: dict[str, float],\n",
    "    ) -> dict[str, str]:\n",
    "        total_mass = sum(\n",
    "            molar_fraction[component] * molar_mass[component]\n",
    "            for component in molar_fraction\n",
    "        )\n",
    "        return {\n",
    "            component: f\"{(molar_fraction[component] * molar_mass[component] / total_mass) * 100:.2f}%\"\n",
    "            for component in molar_fraction\n",
    "        }\n",
    "\n",
    "    molar_fraction = mass_fraction_to_molar_fraction(mass_fraction)\n",
    "    min_molar_fraction = min(molar_fraction.values())\n",
    "    molar_fraction = {\n",
    "        component: molar_fraction[component] / min_molar_fraction\n",
    "        for component in molar_fraction\n",
    "    }\n",
    "    atoms_fraction = {\n",
    "        component: molar_fraction[component] * molar_natoms[component]\n",
    "        for component in molar_fraction\n",
    "    }\n",
    "    tot_atom = sum(atoms_fraction.values())\n",
    "    ratio = total_natoms / tot_atom\n",
    "    round_compound = {\n",
    "        component: round(molar_fraction[component] * ratio)\n",
    "        for component in molar_fraction\n",
    "    }\n",
    "    compound = {\n",
    "        component: {\n",
    "            \"mol\": round_compound[component],\n",
    "            \"n_atoms\": round_compound[component] * molar_natoms[component],\n",
    "        }\n",
    "        for component in round_compound\n",
    "    }\n",
    "    return compound\n",
    "\n",
    "\n",
    "compound = calculate_compound(mass_fraction, molar_mass, molar_natoms, total_natoms)\n",
    "\n",
    "\n",
    "def extracted_LiPF6(componds_dict, LiPF6_name):\n",
    "    MOL_LPF6 = componds_dict[LiPF6_name][\"mol\"]\n",
    "    del componds_dict[LiPF6_name]\n",
    "    componds_dict[\"PF6\"] = {\"mol\": MOL_LPF6, \"n_atoms\": MOL_LPF6 * 7}\n",
    "    componds_dict[\"Li\"] = {\"mol\": MOL_LPF6, \"n_atoms\": MOL_LPF6 * 1}\n",
    "    return componds_dict\n",
    "\n",
    "\n",
    "compound = extracted_LiPF6(compound, \"LiPF6\")\n",
    "print(compound)\n",
    "\n",
    "# write the compound to a file\n",
    "with Path.open(Path(\"compound.json\"), \"w\") as f:\n",
    "    f.write(str(compound))\n"
   ]
  },
  {
   "cell_type": "code",
   "execution_count": null,
   "metadata": {},
   "outputs": [
    {
     "name": "stderr",
     "output_type": "stream",
     "text": [
      "/home/suncc/Code/Archived/mbuild/mbuild/compound.py:997: UserWarning: The Compound you are adding has a box. The box of the parent compound will be used. Use inherit_box = True if you wish to replace the parent compound box with that of Compound being added.\n",
      "  warn(\n"
     ]
    }
   ],
   "source": [
    "from himatcal.recipes.electrolyte.sol_stru.build_box import ElectrolyteBuilder\n",
    "\n",
    "builder = ElectrolyteBuilder(\n",
    "    mol_path=\"/home/suncc/Code/pub/himatcal/examples/EleCal/MD/pdb\"\n",
    ")\n",
    "builder.build_box(compound, density=density, box=None, save_path=\"./box.pdb\")\n"
   ]
  },
  {
   "cell_type": "code",
   "execution_count": 21,
   "metadata": {},
   "outputs": [
    {
     "name": "stdout",
     "output_type": "stream",
     "text": [
      "{'EC': '22.19%', 'EMC': '22.19%', 'DMC': '44.38%', 'LiPF6': '11.25%'}\n"
     ]
    }
   ],
   "source": [
    "mass_fraction_converted = molar_fraction_to_mass_fraction(molar_fraction)\n",
    "print(mass_fraction_converted)"
   ]
  }
 ],
 "metadata": {
  "kernelspec": {
   "display_name": "marimo",
   "language": "python",
   "name": "python3"
  },
  "language_info": {
   "codemirror_mode": {
    "name": "ipython",
    "version": 3
   },
   "file_extension": ".py",
   "mimetype": "text/x-python",
   "name": "python",
   "nbconvert_exporter": "python",
   "pygments_lexer": "ipython3",
   "version": "3.10.4"
  }
 },
 "nbformat": 4,
 "nbformat_minor": 2
}
