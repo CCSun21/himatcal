{
 "cells": [
  {
   "cell_type": "code",
   "execution_count": 2,
   "metadata": {},
   "outputs": [
    {
     "name": "stderr",
     "output_type": "stream",
     "text": [
      "sh: /home/suncc/micromamba/envs/marimo/lib/libtinfo.so.6: no version information available (required by sh)\n",
      "/bin/bash: /home/suncc/micromamba/envs/marimo/lib/libtinfo.so.6: no version information available (required by /bin/bash)\n",
      "sh: /home/suncc/micromamba/envs/marimo/lib/libtinfo.so.6: no version information available (required by sh)\n",
      "/bin/bash: /home/suncc/micromamba/envs/marimo/lib/libtinfo.so.6: no version information available (required by /bin/bash)\n",
      "sh: /home/suncc/micromamba/envs/marimo/lib/libtinfo.so.6: no version information available (required by sh)\n",
      "sh: /home/suncc/micromamba/envs/marimo/lib/libtinfo.so.6: no version information available (required by sh)\n",
      "/bin/bash: /home/suncc/micromamba/envs/marimo/lib/libtinfo.so.6: no version information available (required by /bin/bash)\n",
      "sh: /home/suncc/micromamba/envs/marimo/lib/libtinfo.so.6: no version information available (required by sh)\n",
      "/bin/bash: /home/suncc/micromamba/envs/marimo/lib/libtinfo.so.6: no version information available (required by /bin/bash)\n",
      "sh: /home/suncc/micromamba/envs/marimo/lib/libtinfo.so.6: no version information available (required by sh)\n",
      "sh: /home/suncc/micromamba/envs/marimo/lib/libtinfo.so.6: no version information available (required by sh)\n",
      "/bin/bash: /home/suncc/micromamba/envs/marimo/lib/libtinfo.so.6: no version information available (required by /bin/bash)\n",
      "sh: /home/suncc/micromamba/envs/marimo/lib/libtinfo.so.6: no version information available (required by sh)\n",
      "/bin/bash: /home/suncc/micromamba/envs/marimo/lib/libtinfo.so.6: no version information available (required by /bin/bash)\n",
      "sh: /home/suncc/micromamba/envs/marimo/lib/libtinfo.so.6: no version information available (required by sh)\n",
      "Warning: importing 'simtk.openmm' is deprecated.  Import 'openmm' instead.\n"
     ]
    }
   ],
   "source": [
    "import openmm.app\n",
    "from openff.toolkit import Molecule\n",
    "from openff.units import Quantity, unit\n",
    "from openmmforcefields.generators import GAFFTemplateGenerator\n",
    "from rich.pretty import pprint\n",
    "\n",
    "molecule = Molecule.from_smiles(\"O=S(=O)(N)c1c(Cl)cc2c(c1)S(=O)(=O)NCN2\")\n",
    "molecule.generate_conformers(n_conformers=1)\n",
    "\n",
    "topology = molecule.to_topology()\n",
    "topology.box_vectors = Quantity([4, 4, 4], unit.nanometer)\n",
    "\n",
    "gaff = GAFFTemplateGenerator(molecules=molecule)\n",
    "\n",
    "# If using this alongside another force field, we'd load that in here. But\n",
    "# in this case, we're only using GAFF for this one molecule, so a \"blank\"\n",
    "# force field is a sufficient starting point\n",
    "forcefield_gaff = openmm.app.ForceField()\n",
    "forcefield_gaff.registerTemplateGenerator(gaff.generator)\n",
    "\n",
    "system_gaff = forcefield_gaff.createSystem(\n",
    "    topology=topology.to_openmm(),\n",
    "    nonbondedMethod=openmm.app.PME,\n",
    ")\n"
   ]
  },
  {
   "cell_type": "code",
   "execution_count": 3,
   "metadata": {},
   "outputs": [
    {
     "name": "stdout",
     "output_type": "stream",
     "text": [
      "env: INTERCHANGE_EXPERIMENTAL=1\n"
     ]
    }
   ],
   "source": [
    "%env INTERCHANGE_EXPERIMENTAL=1"
   ]
  },
  {
   "cell_type": "code",
   "execution_count": 4,
   "metadata": {},
   "outputs": [],
   "source": [
    "from openff.interchange import Interchange\n",
    "\n",
    "imported = Interchange.from_openmm(\n",
    "    topology=topology.to_openmm(),\n",
    "    system=system_gaff,\n",
    "    positions=molecule.conformers[0].to_openmm(),\n",
    ")"
   ]
  },
  {
   "cell_type": "code",
   "execution_count": 5,
   "metadata": {},
   "outputs": [
    {
     "data": {
      "text/html": [
       "<pre style=\"white-space:pre;overflow-x:auto;line-height:normal;font-family:Menlo,'DejaVu Sans Mono',consolas,'Courier New',monospace\"><span style=\"color: #800080; text-decoration-color: #800080; font-weight: bold\">EnergyReport</span><span style=\"font-weight: bold\">(</span>\n",
       "<span style=\"color: #7fbf7f; text-decoration-color: #7fbf7f\">│   </span><span style=\"color: #808000; text-decoration-color: #808000\">energies</span>=<span style=\"font-weight: bold\">{</span>\n",
       "<span style=\"color: #7fbf7f; text-decoration-color: #7fbf7f\">│   │   </span><span style=\"color: #008000; text-decoration-color: #008000\">'Bond'</span>: <span style=\"font-weight: bold\">&lt;</span><span style=\"color: #800080; text-decoration-color: #800080; font-weight: bold\">Quantity</span><span style=\"color: #000000; text-decoration-color: #000000; font-weight: bold\">(</span><span style=\"color: #008080; text-decoration-color: #008080; font-weight: bold\">40.71813091571544</span><span style=\"color: #000000; text-decoration-color: #000000\">, </span><span style=\"color: #008000; text-decoration-color: #008000\">'kilojoule / mole'</span><span style=\"color: #000000; text-decoration-color: #000000; font-weight: bold\">)</span><span style=\"color: #000000; text-decoration-color: #000000\">&gt;,</span>\n",
       "<span style=\"color: #7fbf7f; text-decoration-color: #7fbf7f\">│   │   </span><span style=\"color: #008000; text-decoration-color: #008000\">'Angle'</span><span style=\"color: #000000; text-decoration-color: #000000\">: &lt;</span><span style=\"color: #800080; text-decoration-color: #800080; font-weight: bold\">Quantity</span><span style=\"color: #000000; text-decoration-color: #000000; font-weight: bold\">(</span><span style=\"color: #008080; text-decoration-color: #008080; font-weight: bold\">80.74570857756217</span><span style=\"color: #000000; text-decoration-color: #000000\">, </span><span style=\"color: #008000; text-decoration-color: #008000\">'kilojoule / mole'</span><span style=\"color: #000000; text-decoration-color: #000000; font-weight: bold\">)</span><span style=\"color: #000000; text-decoration-color: #000000\">&gt;,</span>\n",
       "<span style=\"color: #7fbf7f; text-decoration-color: #7fbf7f\">│   │   </span><span style=\"color: #008000; text-decoration-color: #008000\">'Torsion'</span><span style=\"color: #000000; text-decoration-color: #000000\">: &lt;</span><span style=\"color: #800080; text-decoration-color: #800080; font-weight: bold\">Quantity</span><span style=\"color: #000000; text-decoration-color: #000000; font-weight: bold\">(</span><span style=\"color: #008080; text-decoration-color: #008080; font-weight: bold\">225.26268867531294</span><span style=\"color: #000000; text-decoration-color: #000000\">, </span><span style=\"color: #008000; text-decoration-color: #008000\">'kilojoule / mole'</span><span style=\"color: #000000; text-decoration-color: #000000; font-weight: bold\">)</span><span style=\"color: #000000; text-decoration-color: #000000\">&gt;,</span>\n",
       "<span style=\"color: #7fbf7f; text-decoration-color: #7fbf7f\">│   │   </span><span style=\"color: #008000; text-decoration-color: #008000\">'Nonbonded'</span><span style=\"color: #000000; text-decoration-color: #000000\">: &lt;</span><span style=\"color: #800080; text-decoration-color: #800080; font-weight: bold\">Quantity</span><span style=\"color: #000000; text-decoration-color: #000000; font-weight: bold\">(</span><span style=\"color: #008080; text-decoration-color: #008080; font-weight: bold\">-2033.6213556604541</span><span style=\"color: #000000; text-decoration-color: #000000\">, </span><span style=\"color: #008000; text-decoration-color: #008000\">'kilojoule / mole'</span><span style=\"color: #000000; text-decoration-color: #000000; font-weight: bold\">)</span><span style=\"font-weight: bold\">&gt;</span>\n",
       "<span style=\"color: #7fbf7f; text-decoration-color: #7fbf7f\">│   </span><span style=\"font-weight: bold\">}</span>\n",
       "<span style=\"font-weight: bold\">)</span>\n",
       "</pre>\n"
      ],
      "text/plain": [
       "\u001b[1;35mEnergyReport\u001b[0m\u001b[1m(\u001b[0m\n",
       "\u001b[2;32m│   \u001b[0m\u001b[33menergies\u001b[0m=\u001b[1m{\u001b[0m\n",
       "\u001b[2;32m│   │   \u001b[0m\u001b[32m'Bond'\u001b[0m: \u001b[1m<\u001b[0m\u001b[1;35mQuantity\u001b[0m\u001b[1;39m(\u001b[0m\u001b[1;36m40.71813091571544\u001b[0m\u001b[39m, \u001b[0m\u001b[32m'kilojoule / mole'\u001b[0m\u001b[1;39m)\u001b[0m\u001b[39m>,\u001b[0m\n",
       "\u001b[2;32m│   │   \u001b[0m\u001b[32m'Angle'\u001b[0m\u001b[39m: <\u001b[0m\u001b[1;35mQuantity\u001b[0m\u001b[1;39m(\u001b[0m\u001b[1;36m80.74570857756217\u001b[0m\u001b[39m, \u001b[0m\u001b[32m'kilojoule / mole'\u001b[0m\u001b[1;39m)\u001b[0m\u001b[39m>,\u001b[0m\n",
       "\u001b[2;32m│   │   \u001b[0m\u001b[32m'Torsion'\u001b[0m\u001b[39m: <\u001b[0m\u001b[1;35mQuantity\u001b[0m\u001b[1;39m(\u001b[0m\u001b[1;36m225.26268867531294\u001b[0m\u001b[39m, \u001b[0m\u001b[32m'kilojoule / mole'\u001b[0m\u001b[1;39m)\u001b[0m\u001b[39m>,\u001b[0m\n",
       "\u001b[2;32m│   │   \u001b[0m\u001b[32m'Nonbonded'\u001b[0m\u001b[39m: <\u001b[0m\u001b[1;35mQuantity\u001b[0m\u001b[1;39m(\u001b[0m\u001b[1;36m-2033.6213556604541\u001b[0m\u001b[39m, \u001b[0m\u001b[32m'kilojoule / mole'\u001b[0m\u001b[1;39m)\u001b[0m\u001b[1m>\u001b[0m\n",
       "\u001b[2;32m│   \u001b[0m\u001b[1m}\u001b[0m\n",
       "\u001b[1m)\u001b[0m\n"
      ]
     },
     "metadata": {},
     "output_type": "display_data"
    }
   ],
   "source": [
    "from openff.interchange.drivers.openmm import (\n",
    "    _get_openmm_energies,\n",
    "    _process,\n",
    "    get_openmm_energies,\n",
    ")\n",
    "\n",
    "energy_openmmforcefields = _process(\n",
    "    _get_openmm_energies(\n",
    "        system=system_gaff,\n",
    "        box_vectors=topology.to_openmm().getPeriodicBoxVectors(),\n",
    "        positions=molecule.conformers[0].to_openmm(),\n",
    "        round_positions=None,\n",
    "        platform=\"Reference\",\n",
    "    ),\n",
    "    system=system_gaff,\n",
    "    combine_nonbonded_forces=True,\n",
    "    detailed=False,\n",
    ")\n",
    "\n",
    "pprint(energy_openmmforcefields)"
   ]
  },
  {
   "cell_type": "code",
   "execution_count": 6,
   "metadata": {},
   "outputs": [
    {
     "data": {
      "text/html": [
       "<pre style=\"white-space:pre;overflow-x:auto;line-height:normal;font-family:Menlo,'DejaVu Sans Mono',consolas,'Courier New',monospace\"><span style=\"color: #800080; text-decoration-color: #800080; font-weight: bold\">EnergyReport</span><span style=\"font-weight: bold\">(</span>\n",
       "<span style=\"color: #7fbf7f; text-decoration-color: #7fbf7f\">│   </span><span style=\"color: #808000; text-decoration-color: #808000\">energies</span>=<span style=\"font-weight: bold\">{</span>\n",
       "<span style=\"color: #7fbf7f; text-decoration-color: #7fbf7f\">│   │   </span><span style=\"color: #008000; text-decoration-color: #008000\">'Bond'</span>: <span style=\"font-weight: bold\">&lt;</span><span style=\"color: #800080; text-decoration-color: #800080; font-weight: bold\">Quantity</span><span style=\"color: #000000; text-decoration-color: #000000; font-weight: bold\">(</span><span style=\"color: #008080; text-decoration-color: #008080; font-weight: bold\">40.718130915715236</span><span style=\"color: #000000; text-decoration-color: #000000\">, </span><span style=\"color: #008000; text-decoration-color: #008000\">'kilojoule / mole'</span><span style=\"color: #000000; text-decoration-color: #000000; font-weight: bold\">)</span><span style=\"color: #000000; text-decoration-color: #000000\">&gt;,</span>\n",
       "<span style=\"color: #7fbf7f; text-decoration-color: #7fbf7f\">│   │   </span><span style=\"color: #008000; text-decoration-color: #008000\">'Angle'</span><span style=\"color: #000000; text-decoration-color: #000000\">: &lt;</span><span style=\"color: #800080; text-decoration-color: #800080; font-weight: bold\">Quantity</span><span style=\"color: #000000; text-decoration-color: #000000; font-weight: bold\">(</span><span style=\"color: #008080; text-decoration-color: #008080; font-weight: bold\">80.74570857756224</span><span style=\"color: #000000; text-decoration-color: #000000\">, </span><span style=\"color: #008000; text-decoration-color: #008000\">'kilojoule / mole'</span><span style=\"color: #000000; text-decoration-color: #000000; font-weight: bold\">)</span><span style=\"color: #000000; text-decoration-color: #000000\">&gt;,</span>\n",
       "<span style=\"color: #7fbf7f; text-decoration-color: #7fbf7f\">│   │   </span><span style=\"color: #008000; text-decoration-color: #008000\">'Torsion'</span><span style=\"color: #000000; text-decoration-color: #000000\">: &lt;</span><span style=\"color: #800080; text-decoration-color: #800080; font-weight: bold\">Quantity</span><span style=\"color: #000000; text-decoration-color: #000000; font-weight: bold\">(</span><span style=\"color: #008080; text-decoration-color: #008080; font-weight: bold\">225.26268867531294</span><span style=\"color: #000000; text-decoration-color: #000000\">, </span><span style=\"color: #008000; text-decoration-color: #008000\">'kilojoule / mole'</span><span style=\"color: #000000; text-decoration-color: #000000; font-weight: bold\">)</span><span style=\"color: #000000; text-decoration-color: #000000\">&gt;,</span>\n",
       "<span style=\"color: #7fbf7f; text-decoration-color: #7fbf7f\">│   │   </span><span style=\"color: #008000; text-decoration-color: #008000\">'Nonbonded'</span><span style=\"color: #000000; text-decoration-color: #000000\">: &lt;</span><span style=\"color: #800080; text-decoration-color: #800080; font-weight: bold\">Quantity</span><span style=\"color: #000000; text-decoration-color: #000000; font-weight: bold\">(</span><span style=\"color: #008080; text-decoration-color: #008080; font-weight: bold\">-2033.6237574776846</span><span style=\"color: #000000; text-decoration-color: #000000\">, </span><span style=\"color: #008000; text-decoration-color: #008000\">'kilojoule / mole'</span><span style=\"color: #000000; text-decoration-color: #000000; font-weight: bold\">)</span><span style=\"font-weight: bold\">&gt;</span>\n",
       "<span style=\"color: #7fbf7f; text-decoration-color: #7fbf7f\">│   </span><span style=\"font-weight: bold\">}</span>\n",
       "<span style=\"font-weight: bold\">)</span>\n",
       "</pre>\n"
      ],
      "text/plain": [
       "\u001b[1;35mEnergyReport\u001b[0m\u001b[1m(\u001b[0m\n",
       "\u001b[2;32m│   \u001b[0m\u001b[33menergies\u001b[0m=\u001b[1m{\u001b[0m\n",
       "\u001b[2;32m│   │   \u001b[0m\u001b[32m'Bond'\u001b[0m: \u001b[1m<\u001b[0m\u001b[1;35mQuantity\u001b[0m\u001b[1;39m(\u001b[0m\u001b[1;36m40.718130915715236\u001b[0m\u001b[39m, \u001b[0m\u001b[32m'kilojoule / mole'\u001b[0m\u001b[1;39m)\u001b[0m\u001b[39m>,\u001b[0m\n",
       "\u001b[2;32m│   │   \u001b[0m\u001b[32m'Angle'\u001b[0m\u001b[39m: <\u001b[0m\u001b[1;35mQuantity\u001b[0m\u001b[1;39m(\u001b[0m\u001b[1;36m80.74570857756224\u001b[0m\u001b[39m, \u001b[0m\u001b[32m'kilojoule / mole'\u001b[0m\u001b[1;39m)\u001b[0m\u001b[39m>,\u001b[0m\n",
       "\u001b[2;32m│   │   \u001b[0m\u001b[32m'Torsion'\u001b[0m\u001b[39m: <\u001b[0m\u001b[1;35mQuantity\u001b[0m\u001b[1;39m(\u001b[0m\u001b[1;36m225.26268867531294\u001b[0m\u001b[39m, \u001b[0m\u001b[32m'kilojoule / mole'\u001b[0m\u001b[1;39m)\u001b[0m\u001b[39m>,\u001b[0m\n",
       "\u001b[2;32m│   │   \u001b[0m\u001b[32m'Nonbonded'\u001b[0m\u001b[39m: <\u001b[0m\u001b[1;35mQuantity\u001b[0m\u001b[1;39m(\u001b[0m\u001b[1;36m-2033.6237574776846\u001b[0m\u001b[39m, \u001b[0m\u001b[32m'kilojoule / mole'\u001b[0m\u001b[1;39m)\u001b[0m\u001b[1m>\u001b[0m\n",
       "\u001b[2;32m│   \u001b[0m\u001b[1m}\u001b[0m\n",
       "\u001b[1m)\u001b[0m\n"
      ]
     },
     "metadata": {},
     "output_type": "display_data"
    }
   ],
   "source": [
    "energy_imported = get_openmm_energies(imported, detailed=False)\n",
    "\n",
    "pprint(energy_imported)"
   ]
  },
  {
   "cell_type": "code",
   "execution_count": 7,
   "metadata": {},
   "outputs": [
    {
     "data": {
      "text/plain": [
       "{'Bond': <Quantity(-2.0605739337042905e-13, 'kilojoule / mole')>,\n",
       " 'Angle': <Quantity(7.105427357601002e-14, 'kilojoule / mole')>,\n",
       " 'Torsion': <Quantity(0.0, 'kilojoule / mole')>,\n",
       " 'Nonbonded': <Quantity(-0.0024018172305204644, 'kilojoule / mole')>}"
      ]
     },
     "execution_count": 7,
     "metadata": {},
     "output_type": "execute_result"
    }
   ],
   "source": [
    "energy_imported.compare(\n",
    "    energy_openmmforcefields,\n",
    "    {\"Nonbonded\": abs(energy_openmmforcefields[\"Nonbonded\"] * 1e-5)},\n",
    ")\n",
    "\n",
    "energy_imported.diff(energy_openmmforcefields)"
   ]
  },
  {
   "cell_type": "code",
   "execution_count": 9,
   "metadata": {},
   "outputs": [
    {
     "name": "stderr",
     "output_type": "stream",
     "text": [
      "sh: /home/suncc/micromamba/envs/marimo/lib/libtinfo.so.6: no version information available (required by sh)\n",
      "/bin/bash: /home/suncc/micromamba/envs/marimo/lib/libtinfo.so.6: no version information available (required by /bin/bash)\n",
      "sh: /home/suncc/micromamba/envs/marimo/lib/libtinfo.so.6: no version information available (required by sh)\n",
      "/bin/bash: /home/suncc/micromamba/envs/marimo/lib/libtinfo.so.6: no version information available (required by /bin/bash)\n",
      "sh: /home/suncc/micromamba/envs/marimo/lib/libtinfo.so.6: no version information available (required by sh)\n",
      "sh: /home/suncc/micromamba/envs/marimo/lib/libtinfo.so.6: no version information available (required by sh)\n",
      "/bin/bash: /home/suncc/micromamba/envs/marimo/lib/libtinfo.so.6: no version information available (required by /bin/bash)\n",
      "sh: /home/suncc/micromamba/envs/marimo/lib/libtinfo.so.6: no version information available (required by sh)\n",
      "/bin/bash: /home/suncc/micromamba/envs/marimo/lib/libtinfo.so.6: no version information available (required by /bin/bash)\n",
      "sh: /home/suncc/micromamba/envs/marimo/lib/libtinfo.so.6: no version information available (required by sh)\n",
      "sh: /home/suncc/micromamba/envs/marimo/lib/libtinfo.so.6: no version information available (required by sh)\n",
      "/bin/bash: /home/suncc/micromamba/envs/marimo/lib/libtinfo.so.6: no version information available (required by /bin/bash)\n",
      "sh: /home/suncc/micromamba/envs/marimo/lib/libtinfo.so.6: no version information available (required by sh)\n",
      "/bin/bash: /home/suncc/micromamba/envs/marimo/lib/libtinfo.so.6: no version information available (required by /bin/bash)\n",
      "sh: /home/suncc/micromamba/envs/marimo/lib/libtinfo.so.6: no version information available (required by sh)\n"
     ]
    }
   ],
   "source": [
    "from openff.toolkit import Molecule, Topology, ForceField\n",
    "from openff.interchange import Interchange\n",
    "\n",
    "paracetamol = Molecule.from_smiles(\"CC(=O)NC1=CC=C(C=C1)O\")\n",
    "paracetamol.generate_conformers(n_conformers=1)\n",
    "\n",
    "topology = Topology.from_molecules([paracetamol])\n",
    "\n",
    "force_field = ForceField(\"openff-2.0.0.offxml\")\n",
    "\n",
    "interchange = Interchange.from_smirnoff(force_field, topology)\n",
    "\n",
    "openmm_system = interchange.to_openmm()\n",
    "openmm_topology = interchange.to_openmm_topology()\n",
    "openmm_positions = interchange.positions.to_openmm()"
   ]
  },
  {
   "cell_type": "code",
   "execution_count": 11,
   "metadata": {},
   "outputs": [
    {
     "name": "stderr",
     "output_type": "stream",
     "text": [
      "1 warning generated.\n"
     ]
    },
    {
     "name": "stdout",
     "output_type": "stream",
     "text": [
      "#\"Step\",\"Potential Energy (kJ/mole)\",\"Temperature (K)\"\n",
      "1000,-142556.096577,289.81659788471455\n",
      "1000,-142556.096577,289.81659788471455\n",
      "2000,-140692.4737742656,301.18886172319156\n",
      "3000,-141264.2909129375,296.811340929822\n",
      "4000,-141165.75429184374,302.30121211508214\n",
      "5000,-140656.2069285625,303.02363780660755\n",
      "6000,-140322.1639598125,303.5687245381905\n",
      "7000,-140494.27772934374,303.6949771942317\n",
      "8000,-140437.32704575,299.89088220730275\n",
      "9000,-140722.8983348125,300.4815501653929\n",
      "10000,-140868.52504379686,302.54416930173204\n"
     ]
    }
   ],
   "source": [
    "from openmm.app import *\n",
    "from openmm import *\n",
    "from openmm.unit import *\n",
    "from sys import stdout\n",
    "\n",
    "pdb = PDBFile('input.pdb')\n",
    "forcefield = ForceField('amber14-all.xml', 'amber14/tip3pfb.xml')\n",
    "system = forcefield.createSystem(pdb.topology, nonbondedMethod=PME,\n",
    "        nonbondedCutoff=1*nanometer, constraints=HBonds)\n",
    "integrator = LangevinMiddleIntegrator(300*kelvin, 1/picosecond, 0.004*picoseconds)\n",
    "simulation = Simulation(pdb.topology, system, integrator)\n",
    "simulation.context.setPositions(pdb.positions)\n",
    "simulation.minimizeEnergy()\n",
    "simulation.reporters.append(PDBReporter('output.pdb', 1000))\n",
    "simulation.reporters.append(StateDataReporter(stdout, 1000, step=True,\n",
    "        potentialEnergy=True, temperature=True))\n",
    "simulation.step(10000)"
   ]
  },
  {
   "cell_type": "code",
   "execution_count": 47,
   "metadata": {},
   "outputs": [],
   "source": [
    "# Create an OpenFF Molecule object for benzene from SMILES\n",
    "from openff.toolkit import Molecule\n",
    "\n",
    "molecule = Molecule.from_file('/home/suncc/Code/pub/himatcal/examples/EleCal/openMM/EC.mol')\n",
    "\n",
    "\n",
    "# Create the GAFF template generator\n",
    "from openmmforcefields.generators import (\n",
    "    GAFFTemplateGenerator,\n",
    ")\n",
    "gaff = GAFFTemplateGenerator(molecules=molecule)\n",
    "gaff.add_molecules(molecule)\n"
   ]
  },
  {
   "cell_type": "code",
   "execution_count": 48,
   "metadata": {},
   "outputs": [
    {
     "name": "stderr",
     "output_type": "stream",
     "text": [
      "Did not recognize residue EC; did you forget to call .add_molecules() to add it?\n"
     ]
    },
    {
     "ename": "ValueError",
     "evalue": "No template found for residue 1 (EC).  The set of atoms is similar to ACE, but it is missing 3 atoms.  For more information, see https://github.com/openmm/openmm/wiki/Frequently-Asked-Questions#template",
     "output_type": "error",
     "traceback": [
      "\u001b[0;31m---------------------------------------------------------------------------\u001b[0m",
      "\u001b[0;31mValueError\u001b[0m                                Traceback (most recent call last)",
      "Cell \u001b[0;32mIn[48], line 18\u001b[0m\n\u001b[1;32m     15\u001b[0m pdbfile \u001b[38;5;241m=\u001b[39m PDBFile(\u001b[38;5;124m\"\u001b[39m\u001b[38;5;124m/home/suncc/Code/pub/himatcal/examples/EleCal/openMM/output.pdb\u001b[39m\u001b[38;5;124m\"\u001b[39m)\n\u001b[1;32m     17\u001b[0m \u001b[38;5;66;03m# Create the system\u001b[39;00m\n\u001b[0;32m---> 18\u001b[0m system \u001b[38;5;241m=\u001b[39m \u001b[43mforcefield\u001b[49m\u001b[38;5;241;43m.\u001b[39;49m\u001b[43mcreateSystem\u001b[49m\u001b[43m(\u001b[49m\u001b[43mtopology\u001b[49m\u001b[43m)\u001b[49m\n",
      "File \u001b[0;32m~/micromamba/envs/marimo/lib/python3.10/site-packages/openmm/app/forcefield.py:1247\u001b[0m, in \u001b[0;36mForceField.createSystem\u001b[0;34m(self, topology, nonbondedMethod, nonbondedCutoff, constraints, rigidWater, removeCMMotion, hydrogenMass, residueTemplates, ignoreExternalBonds, switchDistance, flexibleConstraints, drudeMass, **args)\u001b[0m\n\u001b[1;32m   1243\u001b[0m rigidResidue \u001b[38;5;241m=\u001b[39m [\u001b[38;5;28;01mFalse\u001b[39;00m]\u001b[38;5;241m*\u001b[39mtopology\u001b[38;5;241m.\u001b[39mgetNumResidues()\n\u001b[1;32m   1245\u001b[0m \u001b[38;5;66;03m# Find the template matching each residue and assign atom types.\u001b[39;00m\n\u001b[0;32m-> 1247\u001b[0m templateForResidue \u001b[38;5;241m=\u001b[39m \u001b[38;5;28;43mself\u001b[39;49m\u001b[38;5;241;43m.\u001b[39;49m\u001b[43m_matchAllResiduesToTemplates\u001b[49m\u001b[43m(\u001b[49m\u001b[43mdata\u001b[49m\u001b[43m,\u001b[49m\u001b[43m \u001b[49m\u001b[43mtopology\u001b[49m\u001b[43m,\u001b[49m\u001b[43m \u001b[49m\u001b[43mresidueTemplates\u001b[49m\u001b[43m,\u001b[49m\u001b[43m \u001b[49m\u001b[43mignoreExternalBonds\u001b[49m\u001b[43m)\u001b[49m\n\u001b[1;32m   1248\u001b[0m \u001b[38;5;28;01mfor\u001b[39;00m res \u001b[38;5;129;01min\u001b[39;00m topology\u001b[38;5;241m.\u001b[39mresidues():\n\u001b[1;32m   1249\u001b[0m     \u001b[38;5;28;01mif\u001b[39;00m res\u001b[38;5;241m.\u001b[39mname \u001b[38;5;241m==\u001b[39m \u001b[38;5;124m'\u001b[39m\u001b[38;5;124mHOH\u001b[39m\u001b[38;5;124m'\u001b[39m:\n\u001b[1;32m   1250\u001b[0m         \u001b[38;5;66;03m# Determine whether this should be a rigid water.\u001b[39;00m\n",
      "File \u001b[0;32m~/micromamba/envs/marimo/lib/python3.10/site-packages/openmm/app/forcefield.py:1462\u001b[0m, in \u001b[0;36mForceField._matchAllResiduesToTemplates\u001b[0;34m(self, data, topology, residueTemplates, ignoreExternalBonds, ignoreExtraParticles, recordParameters)\u001b[0m\n\u001b[1;32m   1460\u001b[0m                 \u001b[38;5;28;01mbreak\u001b[39;00m\n\u001b[1;32m   1461\u001b[0m \u001b[38;5;28;01mif\u001b[39;00m matches \u001b[38;5;129;01mis\u001b[39;00m \u001b[38;5;28;01mNone\u001b[39;00m:\n\u001b[0;32m-> 1462\u001b[0m     \u001b[38;5;28;01mraise\u001b[39;00m \u001b[38;5;167;01mValueError\u001b[39;00m(\u001b[38;5;124m'\u001b[39m\u001b[38;5;124mNo template found for residue \u001b[39m\u001b[38;5;132;01m%d\u001b[39;00m\u001b[38;5;124m (\u001b[39m\u001b[38;5;132;01m%s\u001b[39;00m\u001b[38;5;124m).  \u001b[39m\u001b[38;5;132;01m%s\u001b[39;00m\u001b[38;5;124m  For more information, see https://github.com/openmm/openmm/wiki/Frequently-Asked-Questions#template\u001b[39m\u001b[38;5;124m'\u001b[39m \u001b[38;5;241m%\u001b[39m (res\u001b[38;5;241m.\u001b[39mindex\u001b[38;5;241m+\u001b[39m\u001b[38;5;241m1\u001b[39m, res\u001b[38;5;241m.\u001b[39mname, _findMatchErrors(\u001b[38;5;28mself\u001b[39m, res)))\n\u001b[1;32m   1463\u001b[0m \u001b[38;5;28;01melse\u001b[39;00m:\n\u001b[1;32m   1464\u001b[0m     \u001b[38;5;28;01mif\u001b[39;00m recordParameters:\n",
      "\u001b[0;31mValueError\u001b[0m: No template found for residue 1 (EC).  The set of atoms is similar to ACE, but it is missing 3 atoms.  For more information, see https://github.com/openmm/openmm/wiki/Frequently-Asked-Questions#template"
     ]
    }
   ],
   "source": [
    "\n",
    "# Create an OpenMM ForceField object with AMBER ff14SB and TIP3P with compatible ions\n",
    "from openmm.app import ForceField\n",
    "\n",
    "forcefield = ForceField(\n",
    "    \"amber/protein.ff14SB.xml\",\n",
    "    \"amber/tip3p_standard.xml\",\n",
    "    \"amber/tip3p_HFE_multivalent.xml\",\n",
    ")\n",
    "# Register the GAFF template generator\n",
    "forcefield.registerTemplateGenerator(gaff.generator)\n",
    "\n",
    "# You can now parameterize an OpenMM Topology object that contains the specified molecule.\n",
    "# forcefield will load the appropriate GAFF parameters when needed, and antechamber\n",
    "# will be used to generate small molecule parameters on the fly.\n",
    "pdbfile = PDBFile(\"/home/suncc/Code/pub/himatcal/examples/EleCal/openMM/output.pdb\")\n",
    "\n",
    "# Create the system\n",
    "system = forcefield.createSystem(topology)"
   ]
  }
 ],
 "metadata": {
  "kernelspec": {
   "display_name": "marimo",
   "language": "python",
   "name": "python3"
  },
  "language_info": {
   "codemirror_mode": {
    "name": "ipython",
    "version": 3
   },
   "file_extension": ".py",
   "mimetype": "text/x-python",
   "name": "python",
   "nbconvert_exporter": "python",
   "pygments_lexer": "ipython3",
   "version": "3.10.0"
  }
 },
 "nbformat": 4,
 "nbformat_minor": 2
}
