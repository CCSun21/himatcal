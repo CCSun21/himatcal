{
 "cells": [
  {
   "cell_type": "code",
   "execution_count": null,
   "metadata": {},
   "outputs": [],
   "source": [
    "from __future__ import annotations\n",
    "\n",
    "from ase.io import read\n",
    "\n",
    "from himatcal.recipes.materials.diffubarrier import OgStructure\n",
    "\n",
    "atoms = read(\"/home/suncc/Code/pub/himatcal/examples/MatCal/DiffusionBarrier/LFP.vasp\")\n",
    "\n",
    "og = OgStructure(structure=atoms)\n",
    "og.generate_neb(moving_atom_species=\"Li\", r=4)"
   ]
  },
  {
   "cell_type": "code",
   "execution_count": 1,
   "metadata": {},
   "outputs": [
    {
     "data": {
      "text/plain": [
       "PosixPath('/home/suncc/Code/pub/himatcal/examples/MatCal/DiffusionBarrier')"
      ]
     },
     "execution_count": 1,
     "metadata": {},
     "output_type": "execute_result"
    }
   ],
   "source": [
    "from pathlib import Path\n",
    "\n",
    "Path.cwd()"
   ]
  },
  {
   "cell_type": "code",
   "execution_count": 1,
   "metadata": {},
   "outputs": [
    {
     "name": "stderr",
     "output_type": "stream",
     "text": [
      "/home/suncc/micromamba/envs/himatcal/lib/python3.10/site-packages/tqdm/auto.py:21: TqdmWarning: IProgress not found. Please update jupyter and ipywidgets. See https://ipywidgets.readthedocs.io/en/stable/user_install.html\n",
      "  from .autonotebook import tqdm as notebook_tqdm\n"
     ]
    },
    {
     "data": {
      "text/plain": [
       "[PosixPath('/home/suncc/Code/pub/himatcal/examples/MatCal/DiffusionBarrier/neb_path_2_0'),\n",
       " PosixPath('/home/suncc/Code/pub/himatcal/examples/MatCal/DiffusionBarrier/neb_path_3_1')]"
      ]
     },
     "execution_count": 1,
     "metadata": {},
     "output_type": "execute_result"
    }
   ],
   "source": [
    "\n",
    "from ase.io import read\n",
    "\n",
    "from himatcal.recipes.materials.diffubarrier import DiffusionBarrierCal\n",
    "\n",
    "atoms = read(\"/home/suncc/Code/pub/himatcal/examples/MatCal/DiffusionBarrier/LFP.vasp\")\n",
    "\n",
    "diffB = DiffusionBarrierCal(atoms=atoms, label=\"LFP\", ion_type=\"Li\")\n",
    "folder_list = [item for item in diffB._CWD.iterdir() if item.is_dir()]\n",
    "folder_list"
   ]
  },
  {
   "cell_type": "code",
   "execution_count": 2,
   "metadata": {},
   "outputs": [
    {
     "name": "stderr",
     "output_type": "stream",
     "text": [
      "INFO:/home/suncc/micromamba/envs/himatcal/lib/python3.10/site-packages/matgl/utils/io.py:Using cached local file at /home/suncc/.cache/matgl/M3GNet-MP-2021.2.8-PES/model.pt...\n",
      "INFO:/home/suncc/micromamba/envs/himatcal/lib/python3.10/site-packages/matgl/utils/io.py:Using cached local file at /home/suncc/.cache/matgl/M3GNet-MP-2021.2.8-PES/state.pt...\n",
      "INFO:/home/suncc/micromamba/envs/himatcal/lib/python3.10/site-packages/matgl/utils/io.py:Using cached local file at /home/suncc/.cache/matgl/M3GNet-MP-2021.2.8-PES/model.json...\n"
     ]
    },
    {
     "name": "stderr",
     "output_type": "stream",
     "text": [
      "/home/suncc/micromamba/envs/himatcal/lib/python3.10/site-packages/matgl/apps/pes.py:69: UserWarning: To copy construct from a tensor, it is recommended to use sourceTensor.clone().detach() or sourceTensor.clone().detach().requires_grad_(True), rather than torch.tensor(sourceTensor).\n",
      "  self.element_refs = AtomRef(property_offset=torch.tensor(element_refs, dtype=matgl.float_th))\n",
      "/home/suncc/micromamba/envs/himatcal/lib/python3.10/site-packages/matgl/apps/pes.py:75: UserWarning: To copy construct from a tensor, it is recommended to use sourceTensor.clone().detach() or sourceTensor.clone().detach().requires_grad_(True), rather than torch.tensor(sourceTensor).\n",
      "  self.register_buffer(\"data_mean\", torch.tensor(data_mean, dtype=matgl.float_th))\n",
      "/home/suncc/micromamba/envs/himatcal/lib/python3.10/site-packages/matgl/apps/pes.py:76: UserWarning: To copy construct from a tensor, it is recommended to use sourceTensor.clone().detach() or sourceTensor.clone().detach().requires_grad_(True), rather than torch.tensor(sourceTensor).\n",
      "  self.register_buffer(\"data_std\", torch.tensor(data_std, dtype=matgl.float_th))\n"
     ]
    },
    {
     "name": "stdout",
     "output_type": "stream",
     "text": [
      "      Step     Time          Energy          fmax\n",
      "FIRE:    0 15:15:29     -185.444962        0.084422\n"
     ]
    },
    {
     "name": "stderr",
     "output_type": "stream",
     "text": [
      "INFO:/home/suncc/micromamba/envs/himatcal/lib/python3.10/site-packages/matgl/utils/io.py:Using cached local file at /home/suncc/.cache/matgl/M3GNet-MP-2021.2.8-PES/model.pt...\n",
      "INFO:/home/suncc/micromamba/envs/himatcal/lib/python3.10/site-packages/matgl/utils/io.py:Using cached local file at /home/suncc/.cache/matgl/M3GNet-MP-2021.2.8-PES/state.pt...\n",
      "INFO:/home/suncc/micromamba/envs/himatcal/lib/python3.10/site-packages/matgl/utils/io.py:Using cached local file at /home/suncc/.cache/matgl/M3GNet-MP-2021.2.8-PES/model.json...\n"
     ]
    },
    {
     "name": "stdout",
     "output_type": "stream",
     "text": [
      "      Step     Time          Energy          fmax\n",
      "FIRE:    0 15:15:38     -185.444992        0.084411\n"
     ]
    },
    {
     "name": "stderr",
     "output_type": "stream",
     "text": [
      "INFO:/home/suncc/micromamba/envs/himatcal/lib/python3.10/site-packages/matgl/utils/io.py:Using cached local file at /home/suncc/.cache/matgl/M3GNet-MP-2021.2.8-PES/model.pt...\n",
      "INFO:/home/suncc/micromamba/envs/himatcal/lib/python3.10/site-packages/matgl/utils/io.py:Using cached local file at /home/suncc/.cache/matgl/M3GNet-MP-2021.2.8-PES/state.pt...\n",
      "INFO:/home/suncc/micromamba/envs/himatcal/lib/python3.10/site-packages/matgl/utils/io.py:Using cached local file at /home/suncc/.cache/matgl/M3GNet-MP-2021.2.8-PES/model.json...\n",
      "INFO:root:calculating image /home/suncc/Code/pub/himatcal/examples/MatCal/DiffusionBarrier/neb_path_2_0\n"
     ]
    },
    {
     "name": "stdout",
     "output_type": "stream",
     "text": [
      "      Step     Time          Energy          fmax\n",
      "FIRE:    0 15:17:11     -185.327057        0.108013\n"
     ]
    },
    {
     "name": "stderr",
     "output_type": "stream",
     "text": [
      "INFO:root:image /home/suncc/Code/pub/himatcal/examples/MatCal/DiffusionBarrier/neb_path_2_0 calculated.\n",
      "INFO:root:image /home/suncc/Code/pub/himatcal/examples/MatCal/DiffusionBarrier/neb_path_2_0 calculated.\n",
      "INFO:root:image /home/suncc/Code/pub/himatcal/examples/MatCal/DiffusionBarrier/neb_path_2_0 calculated.\n",
      "INFO:root:image /home/suncc/Code/pub/himatcal/examples/MatCal/DiffusionBarrier/neb_path_2_0 calculated.\n",
      "INFO:root:image /home/suncc/Code/pub/himatcal/examples/MatCal/DiffusionBarrier/neb_path_2_0 calculated.\n",
      "INFO:root:image /home/suncc/Code/pub/himatcal/examples/MatCal/DiffusionBarrier/neb_path_2_0 calculated.\n",
      "INFO:root:image /home/suncc/Code/pub/himatcal/examples/MatCal/DiffusionBarrier/neb_path_2_0 calculated.\n"
     ]
    }
   ],
   "source": [
    "diffB.cal_diffusion_barrier(neb_path_floder=folder_list[0])"
   ]
  },
  {
   "cell_type": "code",
   "execution_count": 3,
   "metadata": {},
   "outputs": [
    {
     "ename": "KeyboardInterrupt",
     "evalue": "",
     "output_type": "error",
     "traceback": [
      "\u001b[0;31m---------------------------------------------------------------------------\u001b[0m",
      "\u001b[0;31mKeyboardInterrupt\u001b[0m                         Traceback (most recent call last)",
      "Cell \u001b[0;32mIn[3], line 3\u001b[0m\n\u001b[1;32m      1\u001b[0m \u001b[38;5;28;01mfrom\u001b[39;00m \u001b[38;5;21;01mpathos\u001b[39;00m\u001b[38;5;21;01m.\u001b[39;00m\u001b[38;5;21;01mmultiprocessing\u001b[39;00m \u001b[38;5;28;01mimport\u001b[39;00m ProcessingPool \u001b[38;5;28;01mas\u001b[39;00m Pool\n\u001b[1;32m      2\u001b[0m pool \u001b[38;5;241m=\u001b[39m Pool(nodes\u001b[38;5;241m=\u001b[39mdiffB\u001b[38;5;241m.\u001b[39mparallel)\n\u001b[0;32m----> 3\u001b[0m \u001b[43mpool\u001b[49m\u001b[38;5;241;43m.\u001b[39;49m\u001b[43mmap\u001b[49m\u001b[43m(\u001b[49m\u001b[43mdiffB\u001b[49m\u001b[38;5;241;43m.\u001b[39;49m\u001b[43mcal_diffusion_barrier\u001b[49m\u001b[43m,\u001b[49m\u001b[43m \u001b[49m\u001b[43mfolder_list\u001b[49m\u001b[43m)\u001b[49m\n",
      "File \u001b[0;32m~/micromamba/envs/himatcal/lib/python3.10/site-packages/pathos/multiprocessing.py:154\u001b[0m, in \u001b[0;36mProcessPool.map\u001b[0;34m(self, f, *args, **kwds)\u001b[0m\n\u001b[1;32m    152\u001b[0m \u001b[38;5;28;01mif\u001b[39;00m \u001b[38;5;129;01mnot\u001b[39;00m OLD312a7:\n\u001b[1;32m    153\u001b[0m     warnings\u001b[38;5;241m.\u001b[39mfilterwarnings(\u001b[38;5;124m'\u001b[39m\u001b[38;5;124mignore\u001b[39m\u001b[38;5;124m'\u001b[39m, category\u001b[38;5;241m=\u001b[39m\u001b[38;5;167;01mDeprecationWarning\u001b[39;00m)\n\u001b[0;32m--> 154\u001b[0m \u001b[38;5;28;01mreturn\u001b[39;00m \u001b[43m_pool\u001b[49m\u001b[38;5;241;43m.\u001b[39;49m\u001b[43mmap\u001b[49m\u001b[43m(\u001b[49m\u001b[43mstar\u001b[49m\u001b[43m(\u001b[49m\u001b[43mf\u001b[49m\u001b[43m)\u001b[49m\u001b[43m,\u001b[49m\u001b[43m \u001b[49m\u001b[38;5;28;43mzip\u001b[39;49m\u001b[43m(\u001b[49m\u001b[38;5;241;43m*\u001b[39;49m\u001b[43margs\u001b[49m\u001b[43m)\u001b[49m\u001b[43m,\u001b[49m\u001b[43m \u001b[49m\u001b[38;5;241;43m*\u001b[39;49m\u001b[38;5;241;43m*\u001b[39;49m\u001b[43mkwds\u001b[49m\u001b[43m)\u001b[49m\n",
      "File \u001b[0;32m~/micromamba/envs/himatcal/lib/python3.10/site-packages/multiprocess/pool.py:367\u001b[0m, in \u001b[0;36mPool.map\u001b[0;34m(self, func, iterable, chunksize)\u001b[0m\n\u001b[1;32m    362\u001b[0m \u001b[38;5;28;01mdef\u001b[39;00m \u001b[38;5;21mmap\u001b[39m(\u001b[38;5;28mself\u001b[39m, func, iterable, chunksize\u001b[38;5;241m=\u001b[39m\u001b[38;5;28;01mNone\u001b[39;00m):\n\u001b[1;32m    363\u001b[0m \u001b[38;5;250m    \u001b[39m\u001b[38;5;124;03m'''\u001b[39;00m\n\u001b[1;32m    364\u001b[0m \u001b[38;5;124;03m    Apply `func` to each element in `iterable`, collecting the results\u001b[39;00m\n\u001b[1;32m    365\u001b[0m \u001b[38;5;124;03m    in a list that is returned.\u001b[39;00m\n\u001b[1;32m    366\u001b[0m \u001b[38;5;124;03m    '''\u001b[39;00m\n\u001b[0;32m--> 367\u001b[0m     \u001b[38;5;28;01mreturn\u001b[39;00m \u001b[38;5;28;43mself\u001b[39;49m\u001b[38;5;241;43m.\u001b[39;49m\u001b[43m_map_async\u001b[49m\u001b[43m(\u001b[49m\u001b[43mfunc\u001b[49m\u001b[43m,\u001b[49m\u001b[43m \u001b[49m\u001b[43miterable\u001b[49m\u001b[43m,\u001b[49m\u001b[43m \u001b[49m\u001b[43mmapstar\u001b[49m\u001b[43m,\u001b[49m\u001b[43m \u001b[49m\u001b[43mchunksize\u001b[49m\u001b[43m)\u001b[49m\u001b[38;5;241;43m.\u001b[39;49m\u001b[43mget\u001b[49m\u001b[43m(\u001b[49m\u001b[43m)\u001b[49m\n",
      "File \u001b[0;32m~/micromamba/envs/himatcal/lib/python3.10/site-packages/multiprocess/pool.py:768\u001b[0m, in \u001b[0;36mApplyResult.get\u001b[0;34m(self, timeout)\u001b[0m\n\u001b[1;32m    767\u001b[0m \u001b[38;5;28;01mdef\u001b[39;00m \u001b[38;5;21mget\u001b[39m(\u001b[38;5;28mself\u001b[39m, timeout\u001b[38;5;241m=\u001b[39m\u001b[38;5;28;01mNone\u001b[39;00m):\n\u001b[0;32m--> 768\u001b[0m     \u001b[38;5;28;43mself\u001b[39;49m\u001b[38;5;241;43m.\u001b[39;49m\u001b[43mwait\u001b[49m\u001b[43m(\u001b[49m\u001b[43mtimeout\u001b[49m\u001b[43m)\u001b[49m\n\u001b[1;32m    769\u001b[0m     \u001b[38;5;28;01mif\u001b[39;00m \u001b[38;5;129;01mnot\u001b[39;00m \u001b[38;5;28mself\u001b[39m\u001b[38;5;241m.\u001b[39mready():\n\u001b[1;32m    770\u001b[0m         \u001b[38;5;28;01mraise\u001b[39;00m \u001b[38;5;167;01mTimeoutError\u001b[39;00m\n",
      "File \u001b[0;32m~/micromamba/envs/himatcal/lib/python3.10/site-packages/multiprocess/pool.py:765\u001b[0m, in \u001b[0;36mApplyResult.wait\u001b[0;34m(self, timeout)\u001b[0m\n\u001b[1;32m    764\u001b[0m \u001b[38;5;28;01mdef\u001b[39;00m \u001b[38;5;21mwait\u001b[39m(\u001b[38;5;28mself\u001b[39m, timeout\u001b[38;5;241m=\u001b[39m\u001b[38;5;28;01mNone\u001b[39;00m):\n\u001b[0;32m--> 765\u001b[0m     \u001b[38;5;28;43mself\u001b[39;49m\u001b[38;5;241;43m.\u001b[39;49m\u001b[43m_event\u001b[49m\u001b[38;5;241;43m.\u001b[39;49m\u001b[43mwait\u001b[49m\u001b[43m(\u001b[49m\u001b[43mtimeout\u001b[49m\u001b[43m)\u001b[49m\n",
      "File \u001b[0;32m~/micromamba/envs/himatcal/lib/python3.10/threading.py:600\u001b[0m, in \u001b[0;36mEvent.wait\u001b[0;34m(self, timeout)\u001b[0m\n\u001b[1;32m    598\u001b[0m signaled \u001b[38;5;241m=\u001b[39m \u001b[38;5;28mself\u001b[39m\u001b[38;5;241m.\u001b[39m_flag\n\u001b[1;32m    599\u001b[0m \u001b[38;5;28;01mif\u001b[39;00m \u001b[38;5;129;01mnot\u001b[39;00m signaled:\n\u001b[0;32m--> 600\u001b[0m     signaled \u001b[38;5;241m=\u001b[39m \u001b[38;5;28;43mself\u001b[39;49m\u001b[38;5;241;43m.\u001b[39;49m\u001b[43m_cond\u001b[49m\u001b[38;5;241;43m.\u001b[39;49m\u001b[43mwait\u001b[49m\u001b[43m(\u001b[49m\u001b[43mtimeout\u001b[49m\u001b[43m)\u001b[49m\n\u001b[1;32m    601\u001b[0m \u001b[38;5;28;01mreturn\u001b[39;00m signaled\n",
      "File \u001b[0;32m~/micromamba/envs/himatcal/lib/python3.10/threading.py:320\u001b[0m, in \u001b[0;36mCondition.wait\u001b[0;34m(self, timeout)\u001b[0m\n\u001b[1;32m    318\u001b[0m \u001b[38;5;28;01mtry\u001b[39;00m:    \u001b[38;5;66;03m# restore state no matter what (e.g., KeyboardInterrupt)\u001b[39;00m\n\u001b[1;32m    319\u001b[0m     \u001b[38;5;28;01mif\u001b[39;00m timeout \u001b[38;5;129;01mis\u001b[39;00m \u001b[38;5;28;01mNone\u001b[39;00m:\n\u001b[0;32m--> 320\u001b[0m         \u001b[43mwaiter\u001b[49m\u001b[38;5;241;43m.\u001b[39;49m\u001b[43macquire\u001b[49m\u001b[43m(\u001b[49m\u001b[43m)\u001b[49m\n\u001b[1;32m    321\u001b[0m         gotit \u001b[38;5;241m=\u001b[39m \u001b[38;5;28;01mTrue\u001b[39;00m\n\u001b[1;32m    322\u001b[0m     \u001b[38;5;28;01melse\u001b[39;00m:\n",
      "\u001b[0;31mKeyboardInterrupt\u001b[0m: "
     ]
    }
   ],
   "source": [
    "from pathos.multiprocessing import ProcessingPool as Pool\n",
    "\n",
    "pool = Pool(nodes=diffB.parallel)\n",
    "pool.map(diffB.cal_diffusion_barrier, folder_list)\n"
   ]
  },
  {
   "cell_type": "code",
   "execution_count": 3,
   "metadata": {},
   "outputs": [
    {
     "name": "stderr",
     "output_type": "stream",
     "text": [
      "INFO:root:extracting Ea from /home/suncc/Code/pub/himatcal/examples/MatCal/DiffusionBarrier/neb_path_2_0\n",
      "INFO:root:extracting Ea from /home/suncc/Code/pub/himatcal/examples/MatCal/DiffusionBarrier/neb_path_3_1\n"
     ]
    },
    {
     "data": {
      "text/plain": [
       "0.0"
      ]
     },
     "execution_count": 3,
     "metadata": {},
     "output_type": "execute_result"
    }
   ],
   "source": [
    "diffB.extract_results(neb_path_floders=folder_list)"
   ]
  }
 ],
 "metadata": {
  "kernelspec": {
   "display_name": "Python 3",
   "language": "python",
   "name": "python3"
  },
  "language_info": {
   "codemirror_mode": {
    "name": "ipython",
    "version": 3
   },
   "file_extension": ".py",
   "mimetype": "text/x-python",
   "name": "python",
   "nbconvert_exporter": "python",
   "pygments_lexer": "ipython3",
   "version": "3.10.4"
  }
 },
 "nbformat": 4,
 "nbformat_minor": 2
}
